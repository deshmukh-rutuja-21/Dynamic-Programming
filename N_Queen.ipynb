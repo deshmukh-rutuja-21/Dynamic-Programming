{
  "nbformat": 4,
  "nbformat_minor": 0,
  "metadata": {
    "colab": {
      "name": "N-Queen.ipynb",
      "provenance": [],
      "collapsed_sections": []
    },
    "kernelspec": {
      "name": "python3",
      "display_name": "Python 3"
    }
  },
  "cells": [
    {
      "cell_type": "markdown",
      "metadata": {
        "id": "cyoFbOVtYqDi"
      },
      "source": [
        "QUEEN PLACEMENT\n",
        "\n",
        "Place N queens on N x N chess board so that none of the queen is under attack. Hint We will place one queen in one columns. So we need to track their placement on an array insted of a matrix"
      ]
    },
    {
      "cell_type": "code",
      "metadata": {
        "id": "dIVnPZ9-Yx3C"
      },
      "source": [
        "import numpy as np\n",
        "import pandas as pd"
      ],
      "execution_count": 1,
      "outputs": []
    },
    {
      "cell_type": "code",
      "metadata": {
        "colab": {
          "base_uri": "https://localhost:8080/"
        },
        "id": "aXy0s3ZvY5u0",
        "outputId": "69d09a99-58fa-4c5d-b0eb-d86552c6ffb2"
      },
      "source": [
        "#Number of queens\n",
        "print (\"Enter the number of queens:\")\n",
        "N = int(input())"
      ],
      "execution_count": 21,
      "outputs": [
        {
          "output_type": "stream",
          "text": [
            "Enter the number of queens:\n",
            "8\n"
          ],
          "name": "stdout"
        }
      ]
    },
    {
      "cell_type": "code",
      "metadata": {
        "id": "6yP-xtIBaGba"
      },
      "source": [
        "#chessboard\n",
        "#NxN matrix with all elements 0\n",
        "board = [[0]*N for _ in range(N)]"
      ],
      "execution_count": 23,
      "outputs": []
    },
    {
      "cell_type": "code",
      "metadata": {
        "id": "21y90HbMaHyR"
      },
      "source": [
        "def is_attack(i, j):\n",
        "    #checking if there is a queen in row or column\n",
        "    for k in range(0,N):\n",
        "        if board[i][k]==1 or board[k][j]==1:\n",
        "            return True\n",
        "    #checking diagonals\n",
        "    for k in range(0,N):\n",
        "        for l in range(0,N):\n",
        "            if (k+l==i+j) or (k-l==i-j):\n",
        "                if board[k][l]==1:\n",
        "                    return True\n",
        "    return False"
      ],
      "execution_count": 24,
      "outputs": []
    },
    {
      "cell_type": "code",
      "metadata": {
        "id": "nJlwilkzaHWj"
      },
      "source": [
        "def N_queen(n):\n",
        "    #if n is 0, solution found\n",
        "    if n==0:\n",
        "        return True\n",
        "    for i in range(0,N):\n",
        "        for j in range(0,N):\n",
        "            if (not(is_attack(i,j))) and (board[i][j]!=1):\n",
        "                board[i][j] = 1\n",
        "                #recursion\n",
        "                #wether we can put the next queen with this arrangment or not\n",
        "                if N_queen(n-1)==True:\n",
        "                    return True\n",
        "                board[i][j] = 0\n",
        "\n",
        "    return False"
      ],
      "execution_count": 25,
      "outputs": []
    },
    {
      "cell_type": "code",
      "metadata": {
        "colab": {
          "base_uri": "https://localhost:8080/"
        },
        "id": "J9IEygQjakXh",
        "outputId": "9d9ada65-3447-4a61-bbf8-b816b3f6690d"
      },
      "source": [
        "N_queen(N)\n",
        "for i in board:\n",
        "    print (i)"
      ],
      "execution_count": 26,
      "outputs": [
        {
          "output_type": "stream",
          "text": [
            "[1, 0, 0, 0, 0, 0, 0, 0]\n",
            "[0, 0, 0, 0, 1, 0, 0, 0]\n",
            "[0, 0, 0, 0, 0, 0, 0, 1]\n",
            "[0, 0, 0, 0, 0, 1, 0, 0]\n",
            "[0, 0, 1, 0, 0, 0, 0, 0]\n",
            "[0, 0, 0, 0, 0, 0, 1, 0]\n",
            "[0, 1, 0, 0, 0, 0, 0, 0]\n",
            "[0, 0, 0, 1, 0, 0, 0, 0]\n"
          ],
          "name": "stdout"
        }
      ]
    },
    {
      "cell_type": "code",
      "metadata": {
        "id": "YMED_E_PapY_"
      },
      "source": [
        ""
      ],
      "execution_count": null,
      "outputs": []
    }
  ]
}